{
 "cells": [
  {
   "cell_type": "code",
   "execution_count": 2,
   "metadata": {
    "scrolled": true
   },
   "outputs": [],
   "source": [
    "import datetime\n",
    "from matplotlib import pyplot as plt\n",
    "from matplotlib.patches import ConnectionPatch\n",
    "import pandas as pd\n",
    "import plotly.express as px\n",
    "import json\n",
    "import time"
   ]
  },
  {
   "cell_type": "code",
   "execution_count": 3,
   "metadata": {
    "scrolled": true
   },
   "outputs": [],
   "source": [
    "def readScatterData(path):\n",
    "    \"\"\" 读取所有外部存档的目标值\n",
    "    \"\"\"\n",
    "    TotalDelay = []\n",
    "    Utilization = []\n",
    "\n",
    "    with open(path) as f:\n",
    "        for line in f.readlines():\n",
    "            datas = json.loads(line)\n",
    "            for data in datas:\n",
    "                if datas[data][0] not in TotalDelay:\n",
    "                    TotalDelay.append(datas[data][0])\n",
    "                if datas[data][1] not in Utilization:\n",
    "                    Utilization.append(datas[data][1])\n",
    "\n",
    "    # TotalDelay = []\n",
    "    # Utilization = []\n",
    "\n",
    "    # for map in data:\n",
    "    #     TotalDelay.append(data[map][0])\n",
    "    #     Utilization.append(data[map][1])\n",
    "\n",
    "    return TotalDelay, Utilization\n"
   ]
  },
  {
   "cell_type": "code",
   "execution_count": 4,
   "metadata": {},
   "outputs": [],
   "source": [
    "def readAllScatterData(path):\n",
    "    \"\"\" 读取所有外部存档的目标值\n",
    "    \"\"\"\n",
    "\n",
    "    TotalDelay = []\n",
    "    Utilization = []\n",
    "\n",
    "    with open(path) as f:\n",
    "        for line in f.readlines():\n",
    "            datas = json.loads(line)\n",
    "            for data in datas:\n",
    "                TotalDelay.append(datas[data][0])\n",
    "                Utilization.append(datas[data][1])\n",
    "    # for map in data:\n",
    "    #     TotalDelay.append(data[map][0])\n",
    "    #     Utilization.append(data[map][1])\n",
    "\n",
    "    return TotalDelay, Utilization"
   ]
  },
  {
   "cell_type": "code",
   "execution_count": 5,
   "metadata": {},
   "outputs": [
    {
     "data": {
      "text/plain": [
       "'甘特图绘制，输入：\\n时间表：[{OP1:[T1,T2,T3...], OP2:[T4,T5...]},{...}]\\n解：{\"ConfigurationCode\":[1,3,5,2,4,7,6],\"OperationCode\":{\"1\":{\"1\":1,\"2\":2,\"5\":4,\"6\":5,\"7\":6,\"8\":6,\"9\":6},\"2\":{\"1\":1,\"2\":2,\"3\":2,\"5\":4,\"6\":5,\"7\":6,\"8\":6,\"9\":6},\"3\":{\"2\":5,\"7\":7,\"8\":7,\"9\":7},\"4\":{\"2\":2,\"3\":2,\"4\":4,\"7\":6,\"8\":6,\"9\":6},\"5\":{\"2\":3,\"9\":6}},\"SortCode\":[3,1,4,5,2]}\\ntitle：甘特图名\\n'"
      ]
     },
     "execution_count": 5,
     "metadata": {},
     "output_type": "execute_result"
    }
   ],
   "source": [
    "def readtimetable(timetable):\n",
    "\n",
    "    \"\"\"记录编码\"\"\"\n",
    "    code = timetable.get(\"code\")\n",
    "    ConfigurationCode = code.get(\"ConfigurationCode\")\n",
    "    OperationCode = code.get(\"OperationCode\")\n",
    "    SortCode = code.get(\"SortCode\")\n",
    "    \"\"\"记录解码\"\"\"\n",
    "    decode = timetable.get(\"decode\")\n",
    "    StartTime = decode.get(\"StartTime\")\n",
    "    FinishTime = decode.get(\"FinishTime\")\n",
    "    ProcessingTime = decode.get(\"ProcessingTime\")\n",
    "    SetupStartTime = decode.get(\"SetupStartTime\")\n",
    "    SetupFinishTime = decode.get(\"SetupFinishTime\")\n",
    "    \n",
    "    \"\"\"记录结果指标\"\"\"\n",
    "    Makespan = decode.get(\"Makespan\")\n",
    "    TotalDelay = decode.get(\"TotalDelay\")\n",
    "    Utilization = decode.get(\"Utilization\")\n",
    "    R = timetable.get(\"R\")\n",
    "\n",
    "    return StartTime, FinishTime, ProcessingTime, SetupStartTime, SetupFinishTime, ConfigurationCode, SortCode, TotalDelay, Utilization\n",
    "\n",
    "\n",
    "\"\"\"甘特图绘制，输入：\n",
    "时间表：[{OP1:[T1,T2,T3...], OP2:[T4,T5...]},{...}]\n",
    "解：{\"ConfigurationCode\":[1,3,5,2,4,7,6],\"OperationCode\":{\"1\":{\"1\":1,\"2\":2,\"5\":4,\"6\":5,\"7\":6,\"8\":6,\"9\":6},\"2\":{\"1\":1,\"2\":2,\"3\":2,\"5\":4,\"6\":5,\"7\":6,\"8\":6,\"9\":6},\"3\":{\"2\":5,\"7\":7,\"8\":7,\"9\":7},\"4\":{\"2\":2,\"3\":2,\"4\":4,\"7\":6,\"8\":6,\"9\":6},\"5\":{\"2\":3,\"9\":6}},\"SortCode\":[3,1,4,5,2]}\n",
    "title：甘特图名\n",
    "\"\"\"\n",
    "def DrawGantt(S_table, F_table, Setup_S, Setup_F, ConfigurationCode, SortCode, title):\n",
    "\n",
    "    struct_time = (2022, 4, 1, 8, 0, 0, 1, 152, 0)    # 2022.04.01 8:00:00开始\n",
    "    start_time = time.mktime(struct_time)\n",
    "\n",
    "    task = []                               # 记录工件种类\n",
    "    start = []                              # 记录工件开始时间\n",
    "    finish = []                             # 记录工件结束时间\n",
    "    Resource = []                           # 记录工件所在机器\n",
    "    text = []                               # 记录注释\n",
    "\n",
    "    PartName = [\"001-00536\",\"02JH585\",\"100-02653\",\"KF17A38386\",\"KF17A38396\",\"KF17A38988\",\"KF17A38989\",\"KF17A40120\",\"100-04729-G\",\"100-04731-G\",\"100-04738-G\",\"100-04739-G\",\"100-04740-G\",\"100-04743-G\",\"100-04753-G\",\"100-04770-G\",\"108-00855-G\",\"100-04583-G\",\"100-04585\",\"100-04587\",\"100-04588\",\"100-04590\",\"100-04591\",\"100-04592\",\"100-04593\",\"100-04594\",\"100-04595\",\"100-04630\",\"100-04830\",\"WB00062-00\",\"WB56038-00\",\"WB80120-00\",\"WB80121-00\"]\n",
    "\n",
    "    for machineindex in range(len(ConfigurationCode)):  # 机器序号\n",
    "        machine = ConfigurationCode[machineindex]\n",
    "        for OP in S_table[machineindex]:                # 该机器上的操作\n",
    "            for partindex in range(len(SortCode)):      # 工件序号\n",
    "                Resource.append(\"RMT\" + str(machine) + \"-OP\" + str(OP))\n",
    "                # duration.append(Processing[machineindex].get(OP).get(partindex))\n",
    "                task.append('P' + str(SortCode[partindex]))\n",
    "                text.append(str(SortCode[partindex]))\n",
    "                # task.append(PartName[partindex])\n",
    "                start.append(datetime.datetime.fromtimestamp(S_table[machineindex].get(OP)[partindex]*60 + start_time).isoformat())\n",
    "                finish.append(datetime.datetime.fromtimestamp(F_table[machineindex].get(OP)[partindex]*60 + start_time).isoformat())\n",
    "    for machineindex in range(len(ConfigurationCode)):                  # 机器序号\n",
    "        machine = ConfigurationCode[machineindex]\n",
    "        for OP in Setup_S[machineindex]:                            # 该机器上的操作\n",
    "            for index in range(len(Setup_S[machineindex].get(OP))): # 工件序号\n",
    "                Resource.append(\"RMT\" + str(machine) + \"-OP\" + str(OP))\n",
    "                task.append('换模')\n",
    "                text.append('')\n",
    "                start.append(datetime.datetime.fromtimestamp(Setup_S[machineindex].get(OP)[index]*60 + start_time).isoformat())\n",
    "                finish.append(datetime.datetime.fromtimestamp(Setup_F[machineindex].get(OP)[index]*60 + start_time).isoformat())\n",
    "\n",
    "    df = pd.DataFrame(data=Resource, columns=['Machine'])\n",
    "    df['Start'] = start\n",
    "    df['Finish'] = finish\n",
    "    df['Task'] = task\n",
    "    df['Text'] = text\n",
    "\n",
    "    # print(df)\n",
    "\n",
    "    return px.timeline(\n",
    "        data_frame=df,\n",
    "        x_start=\"Start\",\n",
    "        x_end=\"Finish\",\n",
    "        y=\"Machine\",\n",
    "        color=\"Task\",\n",
    "        text=\"Text\",\n",
    "        title=str(title),  \n",
    "        # color_discrete_sequence=[\"white\"], # 选择颜色\n",
    "        color_discrete_sequence=[\n",
    "            \"#E57373\",\"#F06292\",\"#BA68C8\",\"#9575CD\",\"#7986CB\",\"#64B5F6\",\"#4FC3F7\",\"#4DD0E1\",\"#4DB6AC\",\"#81C784\",\"#AED581\",\n",
    "            \"#DCE775\",\"#FFF176\",\"#FFD54F\",\"#FFB74D\",\"#FF8A65\",\"#A1887F\",\"#B71C1C\",\"#880E4F\",\"#4A148C\",\"#311B92\",\"#1A237E\",\n",
    "            \"#0D47A1\",\"#01579B\",\"#006064\",\"#004D40\",\"#1B5E20\",\"#33691E\",\"#827717\",\"#F57F17\",\"#FF6F00\",\"#E65100\",\"#BF360C\",\n",
    "            \"#90A4AE\",\n",
    "        ],\n",
    "        color_discrete_map={\"换模\":\"black\"},\n",
    "        # category_orders={\"Task\": [\"D1\", \"D2\", \"D3\", \"D4\"]}, # 标签排序\n",
    "    )"
   ]
  },
  {
   "cell_type": "code",
   "execution_count": 65,
   "metadata": {},
   "outputs": [
    {
     "name": "stdout",
     "output_type": "stream",
     "text": [
      "NSGAII：\t19个Pareto解\n",
      "SPEA2_1：\t6个Pareto解\n",
      "SPEA2_2：\t8个Pareto解\n",
      "SPEA2_3：\t8个Pareto解\n"
     ]
    },
    {
     "data": {
      "image/png": "[encoded data removed]",
      "text/plain": [
       "<Figure size 288x288 with 1 Axes>"
      ]
     },
     "metadata": {
      "needs_background": "light"
     },
     "output_type": "display_data"
    }
   ],
   "source": [
    "path = \"C:\\\\Users\\\\64513\\\\Desktop\\\\zhengnanxi\\\\scheduling_of_rfl\\\\result\\\\case1_time3\"\n",
    "NSGAIITotalDelay, NSGAIIUtilization = readScatterData(path + \"\\\\NSGAII\\\\ParetoFront.txt\")\n",
    "SPEA2_1TotalDelay, SPEA2_1Utilization = readScatterData(path + \"\\\\SPEA2_1\\\\ParetoFront.txt\")\n",
    "SPEA2_2TotalDelay, SPEA2_2Utilization = readScatterData(path + \"\\\\SPEA2_2\\\\ParetoFront.txt\")\n",
    "SPEA2_3TotalDelay, SPEA2_3Utilization = readScatterData(path + \"\\\\SPEA2_3\\\\ParetoFront.txt\")\n",
    "NSGAIITotalDelay.sort()\n",
    "NSGAIIUtilization.sort()\n",
    "SPEA2_1TotalDelay.sort()\n",
    "SPEA2_1Utilization.sort()\n",
    "SPEA2_2TotalDelay.sort()\n",
    "SPEA2_2Utilization.sort()\n",
    "SPEA2_3TotalDelay.sort()\n",
    "SPEA2_3Utilization.sort()\n",
    "fig = plt.figure(1, figsize=(4,4))\n",
    "plt.rcParams['font.sans-serif'] = ['SimHei'] #显示中文\n",
    "plt.plot(NSGAIITotalDelay, NSGAIIUtilization, marker='^', markersize='6', markerfacecolor='w', ls='-', label='NSGAII')\n",
    "plt.plot(SPEA2_1TotalDelay, SPEA2_1Utilization, marker='o', markersize='6', markerfacecolor='w', ls=':', label='SPEA2_1')\n",
    "plt.plot(SPEA2_2TotalDelay, SPEA2_2Utilization, marker='*', markersize='6', markerfacecolor='w', ls='--', label='SPEA2_2')\n",
    "plt.plot(SPEA2_3TotalDelay, SPEA2_3Utilization, marker='s', markersize='6', markerfacecolor='w', ls='-.', label='SPEA2_3')\n",
    "plt.xlabel(\"total delay/min\", fontdict={'size': 12}, fontproperties='SimHei')\n",
    "plt.ylabel(\"average utilization/%\", fontdict={'size': 12}, fontproperties='SimHei')\n",
    "plt.title(\"Pareto Front Comparison\", fontdict={'size': 14}, fontproperties='SimHei')\n",
    "plt.legend(loc='best')\n",
    "plt.grid()\n",
    "plt.savefig(path + \"\\\\算法最优解比较图.png\", format='png')\n",
    "print('NSGAII：\\t%d个Pareto解' % len(NSGAIITotalDelay))\n",
    "print('SPEA2_1：\\t%d个Pareto解' % len(SPEA2_1TotalDelay))\n",
    "print('SPEA2_2：\\t%d个Pareto解' % len(SPEA2_2TotalDelay))\n",
    "print('SPEA2_3：\\t%d个Pareto解' % len(SPEA2_3TotalDelay))"
   ]
  },
  {
   "cell_type": "code",
   "execution_count": 68,
   "metadata": {},
   "outputs": [
    {
     "data": {
      "image/png": "[encoded data removed]",
      "text/plain": [
       "<Figure size 288x144 with 2 Axes>"
      ]
     },
     "metadata": {
      "needs_background": "light"
     },
     "output_type": "display_data"
    }
   ],
   "source": [
    "# %% 画nsgaii迭代曲线图\n",
    "p = \"C:\\\\Users\\\\64513\\\\Desktop\\\\zhengnanxi\\\\scheduling_of_rfl\\\\result\\\\case1_time3\\\\spea2_2\"\n",
    "utilization = []\n",
    "totaldelay = []\n",
    "toptotaldelay = []\n",
    "toputilization = []\n",
    "bottomtotaldelay = []\n",
    "bottomutilization = []\n",
    "\n",
    "with open(p + \"\\\\uOfA.txt\") as f:\n",
    "    for line in f.readlines():\n",
    "        utilization.append(json.loads(line))\n",
    "with open(p + \"\\\\tOfA.txt\") as f:\n",
    "    for line in f.readlines():\n",
    "        totaldelay.append(json.loads(line))\n",
    "with open(p + \"\\\\topuOfA.txt\") as f:\n",
    "    for line in f.readlines():\n",
    "        toputilization.append(json.loads(line))\n",
    "with open(p + \"\\\\bottomtOfA.txt\") as f:\n",
    "    for line in f.readlines():\n",
    "        bottomtotaldelay.append(json.loads(line))\n",
    "with open(p + \"\\\\bottomuOfA.txt\") as f:\n",
    "    for line in f.readlines():\n",
    "        bottomutilization.append(json.loads(line))\n",
    "with open(p + \"\\\\toptOfA.txt\") as f:\n",
    "    for line in f.readlines():\n",
    "        toptotaldelay.append(json.loads(line))\n",
    "fig = plt.figure(2, figsize=(4,2))\n",
    "# plt.rcParams['font.sans-serif'] = ['SimHei'] #显示中文\n",
    "# 绘制利用率\n",
    "ax1 = fig.add_subplot(111)\n",
    "line1 = ax1.plot(range(0,len(utilization)), utilization, color='C0', linestyle='--',label=\"average utilization\")\n",
    "line2 = ax1.plot(range(0,len(toputilization)), toputilization, color='C0', label=\"optimum utilization\")\n",
    "# line1 = ax1.plot(range(0,len(utilization)), utilization, color='grey', linestyle='--',label=\"average utilization\")\n",
    "# line2 = ax1.plot(range(0,len(toputilization)), toputilization, color='grey', label=\"optimum utilization\")\n",
    "# ax1.fill_between(range(0,len(toputilization)), toputilization, bottomutilization, color='C0', alpha=.3, linewidth=0)\n",
    "ax1.set_ylabel('average utilization/%', fontsize=10)\n",
    "ax1.set_xlabel('iteration', fontsize=10)\n",
    "ax1.tick_params(labelsize=9)\n",
    "# ax1.legend(loc='best', handletextpad=0.2, labelspacing=0.2, borderpad=0.5)\n",
    "# 绘制延期时间\n",
    "ax2 = ax1.twinx()\n",
    "line3 = ax2.plot(range(0,len(totaldelay)), totaldelay, color='C1', linestyle='--', label=\"average total delay\")\n",
    "line4 = ax2.plot(range(0,len(bottomtotaldelay)), bottomtotaldelay, color='C1', label=\"optimal total delay\")\n",
    "# line3 = ax2.plot(range(0,len(totaldelay)), totaldelay, color='black', linestyle='--', label=\"average total delay\")\n",
    "# line4 = ax2.plot(range(0,len(bottomtotaldelay)), bottomtotaldelay, color='black', label=\"optimal total delay\")\n",
    "# ax2.fill_between(range(0,len(toptotaldelay)), toptotaldelay, bottomtotaldelay, color='C1', alpha=.3, linewidth=0)\n",
    "ax2.set_ylabel('total delay/min', fontsize=10)\n",
    "ax2.tick_params(labelsize=9)\n",
    "plt.ticklabel_format(style='sci',scilimits=(0,0), axis='both', useMathText=True)\n",
    "# 合并图例\n",
    "lines = line1 + line2 + line3 + line4\n",
    "labels = [l.get_label() for l in lines]\n",
    "# ax2.legend(loc='best', handletextpad=0.2, labelspacing=0.2, borderpad=0.5)\n",
    "ax1.legend(\n",
    "    lines, labels, ncol=2,\n",
    "    handlelength=1.5, handletextpad=0.2, labelspacing=0.2, borderpad=0.5, columnspacing=0.5, borderaxespad=1,\n",
    "    fontsize=9, \n",
    "    loc='center', bbox_to_anchor=(0.5, 0.75)\n",
    ")\n",
    "# plt.title('迭代曲线图')\n",
    "plt.savefig(p + \"\\\\迭代曲线图.png\", format='png')\n",
    "plt.show()"
   ]
  },
  {
   "cell_type": "code",
   "execution_count": 49,
   "metadata": {},
   "outputs": [
    {
     "name": "stdout",
     "output_type": "stream",
     "text": [
      "C(SPEA2_1, NSGAII) = 0.181818,  C(NSGAII, SPEA2_1) = 0.428571; \n",
      "C(SPEA2_2, NSGAII) = 0.863636,  C(NSGAII, SPEA2_2) = 0.125000; \n",
      "C(SPEA2_3, NSGAII) = 0.909091,  C(NSGAII, SPEA2_3) = 0.000000. \n",
      "HV(NSGAII) =\t38433692.452626, \n",
      "HV(SPEA2_1) = \t36525624.952181, \n",
      "HV(SPEA2_2) =\t40026510.875548. \n",
      "HV(SPEA2_3) =\t40027360.931889. \n"
     ]
    }
   ],
   "source": [
    "#%% 前沿面C-metric\n",
    "c = 0\n",
    "for i in range(len(NSGAIITotalDelay)):\n",
    "    for j in range(len(SPEA2_1TotalDelay)):\n",
    "        if NSGAIIUtilization[i] <= SPEA2_1Utilization[j] and NSGAIITotalDelay[i] > SPEA2_1TotalDelay[j] or NSGAIIUtilization[i] < SPEA2_1Utilization[j] and NSGAIITotalDelay[i] == SPEA2_1TotalDelay[j]:\n",
    "            c+=1\n",
    "            break\n",
    "c = c/len(NSGAIITotalDelay)\n",
    "print('C(SPEA2_1, NSGAII) = %f, ' % c, end=' ')\n",
    "c = 0\n",
    "for i in range(len(SPEA2_1Utilization)):\n",
    "    for j in range(len(NSGAIITotalDelay)):\n",
    "        if NSGAIIUtilization[j] >= SPEA2_1Utilization[i] and NSGAIITotalDelay[j] < SPEA2_1TotalDelay[i] or NSGAIIUtilization[j] > SPEA2_1Utilization[i] and NSGAIITotalDelay[j] == SPEA2_1TotalDelay[i]:\n",
    "            c+=1\n",
    "            break\n",
    "c = c/len(SPEA2_1Utilization)\n",
    "print('C(NSGAII, SPEA2_1) = %f; ' % c)\n",
    "\n",
    "c = 0\n",
    "for i in range(len(NSGAIITotalDelay)):\n",
    "    for j in range(len(SPEA2_2TotalDelay)):\n",
    "        if NSGAIIUtilization[i] <= SPEA2_2Utilization[j] and NSGAIITotalDelay[i] > SPEA2_2TotalDelay[j] or NSGAIIUtilization[i] < SPEA2_2Utilization[j] and NSGAIITotalDelay[i] == SPEA2_2TotalDelay[j]:\n",
    "            c+=1\n",
    "            break\n",
    "c = c/len(NSGAIITotalDelay)\n",
    "print('C(SPEA2_2, NSGAII) = %f, ' % c, end=' ')\n",
    "c = 0\n",
    "for i in range(len(SPEA2_2Utilization)):\n",
    "    for j in range(len(NSGAIITotalDelay)):\n",
    "        if NSGAIIUtilization[j] >= SPEA2_2Utilization[i] and NSGAIITotalDelay[j] < SPEA2_2TotalDelay[i] or NSGAIIUtilization[j] > SPEA2_2Utilization[i] and NSGAIITotalDelay[j] == SPEA2_2TotalDelay[i]:\n",
    "            c+=1\n",
    "            break\n",
    "c = c/len(SPEA2_2Utilization)\n",
    "print('C(NSGAII, SPEA2_2) = %f; ' % c)\n",
    "\n",
    "c = 0\n",
    "for i in range(len(NSGAIITotalDelay)):\n",
    "    for j in range(len(SPEA2_3TotalDelay)):\n",
    "        if NSGAIIUtilization[i] <= SPEA2_3Utilization[j] and NSGAIITotalDelay[i] > SPEA2_3TotalDelay[j] or NSGAIIUtilization[i] < SPEA2_3Utilization[j] and NSGAIITotalDelay[i] == SPEA2_3TotalDelay[j]:\n",
    "            c+=1\n",
    "            break\n",
    "c = c/len(NSGAIITotalDelay)\n",
    "print('C(SPEA2_3, NSGAII) = %f, ' % c, end=' ')\n",
    "c = 0\n",
    "for i in range(len(SPEA2_3Utilization)):\n",
    "    for j in range(len(NSGAIITotalDelay)):\n",
    "        if NSGAIIUtilization[j] >= SPEA2_3Utilization[i] and NSGAIITotalDelay[j] < SPEA2_3TotalDelay[i] or NSGAIIUtilization[j] > SPEA2_3Utilization[i] and NSGAIITotalDelay[j] == SPEA2_3TotalDelay[i]:\n",
    "            c+=1\n",
    "            break\n",
    "c = c/len(SPEA2_3Utilization)\n",
    "print('C(NSGAII, SPEA2_3) = %f. ' % c)\n",
    "\n",
    "# %% 超体积指标HV\n",
    "r_TotalDelay, r_Utilization = (1500000, 40)\n",
    "NSGAIITotalDelay.insert(0, r_TotalDelay)\n",
    "SPEA2_1TotalDelay.insert(0, r_TotalDelay)\n",
    "SPEA2_2TotalDelay.insert(0, r_TotalDelay)\n",
    "SPEA2_3TotalDelay.insert(0, r_TotalDelay)\n",
    "NSGAIIUtilization.insert(0, r_Utilization)\n",
    "SPEA2_1Utilization.insert(0, r_Utilization)\n",
    "SPEA2_2Utilization.insert(0, r_Utilization)\n",
    "SPEA2_3Utilization.insert(0, r_Utilization)\n",
    "HV = 0\n",
    "for i in range(1, len(NSGAIITotalDelay)):\n",
    "    HV += (r_TotalDelay - NSGAIITotalDelay[i]) * (NSGAIIUtilization[i] - NSGAIIUtilization[i-1])\n",
    "print('HV(NSGAII) =\\t%-f, ' % HV)\n",
    "HV = 0\n",
    "for i in range(1, len(SPEA2_1TotalDelay)):\n",
    "    HV += (r_TotalDelay - SPEA2_1TotalDelay[i]) * (SPEA2_1Utilization[i] - SPEA2_1Utilization[i-1])\n",
    "print('HV(SPEA2_1) = \\t%-f, ' % HV)\n",
    "HV = 0\n",
    "for i in range(1, len(SPEA2_2TotalDelay)):\n",
    "    HV += (r_TotalDelay - SPEA2_2TotalDelay[i]) * (SPEA2_2Utilization[i] - SPEA2_2Utilization[i-1])\n",
    "print('HV(SPEA2_2) =\\t%-f. ' % HV)\n",
    "HV = 0\n",
    "for i in range(1, len(SPEA2_3TotalDelay)):\n",
    "    HV += (r_TotalDelay - SPEA2_3TotalDelay[i]) * (SPEA2_3Utilization[i] - SPEA2_3Utilization[i-1])\n",
    "print('HV(SPEA2_3) =\\t%-f. ' % HV)"
   ]
  },
  {
   "cell_type": "code",
   "execution_count": 7,
   "metadata": {},
   "outputs": [
    {
     "data": {
      "text/plain": [
       "<matplotlib.collections.PathCollection at 0x13ed40c29d0>"
      ]
     },
     "execution_count": 7,
     "metadata": {},
     "output_type": "execute_result"
    },
    {
     "data": {
      "text/plain": [
       "<matplotlib.collections.PathCollection at 0x13ed40c2f70>"
      ]
     },
     "execution_count": 7,
     "metadata": {},
     "output_type": "execute_result"
    },
    {
     "data": {
      "text/plain": [
       "Text(0.5, 0, '总拖期时间/min')"
      ]
     },
     "execution_count": 7,
     "metadata": {},
     "output_type": "execute_result"
    },
    {
     "data": {
      "text/plain": [
       "Text(0, 0.5, '平均设备利用率/%')"
      ]
     },
     "execution_count": 7,
     "metadata": {},
     "output_type": "execute_result"
    },
    {
     "data": {
      "text/plain": [
       "Text(0.5, 1.0, '算法解散点图')"
      ]
     },
     "execution_count": 7,
     "metadata": {},
     "output_type": "execute_result"
    },
    {
     "data": {
      "text/plain": [
       "<matplotlib.legend.Legend at 0x13ed40c2940>"
      ]
     },
     "execution_count": 7,
     "metadata": {},
     "output_type": "execute_result"
    },
    {
     "data": {
      "image/png": "[encoded data removed]",
      "text/plain": [
       "<Figure size 288x273.6 with 1 Axes>"
      ]
     },
     "metadata": {
      "needs_background": "light"
     },
     "output_type": "display_data"
    }
   ],
   "source": [
    "# %% 画散点图\n",
    "p = (\"E:\\\\JavaProjects\\\\configuration_and_scheduling_of_MRFL\\\\SPEA2\\\\sourse\\\\case3\")\n",
    "allTotalDelay, allUtilization = readAllScatterData(p + \"\\\\archiveObj.txt\")\n",
    "TotalDelay, Utilization = readScatterData(p + \"\\\\ParetoFront.txt\")\n",
    "# with open(p + \"\\\\archiveObj.txt\") as f:\n",
    "#     lines = f.readlines()\n",
    "#     line = lines[0]\n",
    "#     scatterData = json.loads(line)\n",
    "#     allTotalDelay, allUtilization = readScatterData(scatterData)\n",
    "# with open(p + \"\\\\ParetoFront.txt\") as f:\n",
    "#     lines = f.readlines()\n",
    "#     line = lines[0]\n",
    "#     scatterData = json.loads(line)\n",
    "#     TotalDelay, Utilization = readScatterData(scatterData)\n",
    "fig = plt.figure(1, figsize=(4,3.8))\n",
    "plt.rcParams['font.sans-serif'] = ['SimHei'] #显示中文\n",
    "plt.scatter(allTotalDelay, allUtilization, s=15, label='种群解')\n",
    "plt.scatter(TotalDelay, Utilization, color='C1', s=20, label='Pareto解')\n",
    "plt.xlabel(\"总拖期时间/min\", fontdict={'size': 12}, fontproperties='SimHei')\n",
    "plt.ylabel(\"平均设备利用率/%\", fontdict={'size': 12}, fontproperties='SimHei')\n",
    "plt.title(\"算法解散点图\", fontdict={'size': 14}, fontproperties='SimHei')\n",
    "plt.legend(loc='best')\n",
    "plt.grid()\n",
    "plt.savefig(p + \"\\\\解散点图.png\", format='png')"
   ]
  },
  {
   "cell_type": "code",
   "execution_count": 23,
   "metadata": {},
   "outputs": [
    {
     "data": {
      "text/plain": [
       "(1.0, 0.0)"
      ]
     },
     "execution_count": 23,
     "metadata": {},
     "output_type": "execute_result"
    },
    {
     "data": {
      "text/plain": [
       "(0.8712199191815806, 0.019690063810391976)"
      ]
     },
     "execution_count": 23,
     "metadata": {},
     "output_type": "execute_result"
    },
    {
     "data": {
      "text/plain": [
       "(0.975572216745514, 0.017228805834092982)"
      ]
     },
     "execution_count": 23,
     "metadata": {},
     "output_type": "execute_result"
    },
    {
     "data": {
      "text/plain": [
       "(0.8497449006596485, 0.11536918869644484)"
      ]
     },
     "execution_count": 23,
     "metadata": {},
     "output_type": "execute_result"
    },
    {
     "data": {
      "text/plain": [
       "(0.8287880894387789, 0.13035551504102097)"
      ]
     },
     "execution_count": 23,
     "metadata": {},
     "output_type": "execute_result"
    },
    {
     "data": {
      "text/plain": [
       "(0.7037441420115715, 0.16603463992707385)"
      ]
     },
     "execution_count": 23,
     "metadata": {},
     "output_type": "execute_result"
    },
    {
     "data": {
      "text/plain": [
       "(0.6774776615176809, 0.18348222424794894)"
      ]
     },
     "execution_count": 23,
     "metadata": {},
     "output_type": "execute_result"
    },
    {
     "data": {
      "text/plain": [
       "(0.6476237925399373, 0.19019143117593437)"
      ]
     },
     "execution_count": 23,
     "metadata": {},
     "output_type": "execute_result"
    },
    {
     "data": {
      "text/plain": [
       "(0.646614263061394, 0.2024430264357338)"
      ]
     },
     "execution_count": 23,
     "metadata": {},
     "output_type": "execute_result"
    },
    {
     "data": {
      "text/plain": [
       "(0.6034027491166561, 0.2678760255241568)"
      ]
     },
     "execution_count": 23,
     "metadata": {},
     "output_type": "execute_result"
    },
    {
     "data": {
      "text/plain": [
       "(0.522197418089362, 0.33429352780309934)"
      ]
     },
     "execution_count": 23,
     "metadata": {},
     "output_type": "execute_result"
    },
    {
     "data": {
      "text/plain": [
       "(0.5129843972357869, 0.35686417502278944)"
      ]
     },
     "execution_count": 23,
     "metadata": {},
     "output_type": "execute_result"
    },
    {
     "data": {
      "text/plain": [
       "(0.33372431482998954, 0.3822971741112124)"
      ]
     },
     "execution_count": 23,
     "metadata": {},
     "output_type": "execute_result"
    },
    {
     "data": {
      "text/plain": [
       "(0.431099853032172, 0.37797629899726526)"
      ]
     },
     "execution_count": 23,
     "metadata": {},
     "output_type": "execute_result"
    },
    {
     "data": {
      "text/plain": [
       "(0.19439934813331583, 0.6048678213309024)"
      ]
     },
     "execution_count": 23,
     "metadata": {},
     "output_type": "execute_result"
    },
    {
     "data": {
      "text/plain": [
       "(0.18067653449892662, 0.6125250683682771)"
      ]
     },
     "execution_count": 23,
     "metadata": {},
     "output_type": "execute_result"
    },
    {
     "data": {
      "text/plain": [
       "(0.16638193696310488, 0.624102096627165)"
      ]
     },
     "execution_count": 23,
     "metadata": {},
     "output_type": "execute_result"
    },
    {
     "data": {
      "text/plain": [
       "(0.14886081878727164, 0.7177757520510483)"
      ]
     },
     "execution_count": 23,
     "metadata": {},
     "output_type": "execute_result"
    },
    {
     "data": {
      "text/plain": [
       "(0.1467383945940155, 0.7202370100273473)"
      ]
     },
     "execution_count": 23,
     "metadata": {},
     "output_type": "execute_result"
    },
    {
     "data": {
      "text/plain": [
       "(0.1428254174547371, 0.726982680036463)"
      ]
     },
     "execution_count": 23,
     "metadata": {},
     "output_type": "execute_result"
    },
    {
     "data": {
      "text/plain": [
       "(0.12931402866684794, 0.76718322698268)"
      ]
     },
     "execution_count": 23,
     "metadata": {},
     "output_type": "execute_result"
    },
    {
     "data": {
      "text/plain": [
       "(0.1164816020496422, 0.7923792160437557)"
      ]
     },
     "execution_count": 23,
     "metadata": {},
     "output_type": "execute_result"
    },
    {
     "data": {
      "text/plain": [
       "(0.10134158289754946, 0.8374658158614403)"
      ]
     },
     "execution_count": 23,
     "metadata": {},
     "output_type": "execute_result"
    },
    {
     "data": {
      "text/plain": [
       "(0.0816825903404318, 0.9318505013673656)"
      ]
     },
     "execution_count": 23,
     "metadata": {},
     "output_type": "execute_result"
    },
    {
     "data": {
      "text/plain": [
       "(0.0955742284735498, 0.9284776663628077)"
      ]
     },
     "execution_count": 23,
     "metadata": {},
     "output_type": "execute_result"
    },
    {
     "data": {
      "text/plain": [
       "(0.033002035024726206, 0.9594165907019143)"
      ]
     },
     "execution_count": 23,
     "metadata": {},
     "output_type": "execute_result"
    },
    {
     "data": {
      "text/plain": [
       "(0.06267111217394705, 0.9568094804010939)"
      ]
     },
     "execution_count": 23,
     "metadata": {},
     "output_type": "execute_result"
    },
    {
     "data": {
      "text/plain": [
       "(0.024356192516033603, 0.9745852324521422)"
      ]
     },
     "execution_count": 23,
     "metadata": {},
     "output_type": "execute_result"
    },
    {
     "data": {
      "text/plain": [
       "(0.0, 1.0)"
      ]
     },
     "execution_count": 23,
     "metadata": {},
     "output_type": "execute_result"
    }
   ],
   "source": [
    "p = (\"E:\\\\JavaProjects\\\\configuration_and_scheduling_of_MRFL\\\\SPEA2\\\\sourse\\\\case3\")\n",
    "allTotalDelay, allUtilization = readAllScatterData(p + \"\\\\archiveObj.txt\")\n",
    "TotalDelay, Utilization = readScatterData(p + \"\\\\ParetoFront.txt\")\n",
    "MINTotalDelay = min(TotalDelay)\n",
    "MAXTotalDelay = max(TotalDelay)\n",
    "MINUtilization = min(Utilization)\n",
    "MAXUtilization = max(Utilization)\n",
    "x = []\n",
    "y = []\n",
    "for i in range(len(TotalDelay)):\n",
    "    x.append((TotalDelay[i] - MINTotalDelay)/(MAXTotalDelay - MINTotalDelay))\n",
    "    y.append((Utilization[i] - MINUtilization)/(MAXUtilization - MINUtilization))\n",
    "MINx = min(x)\n",
    "MAXy = max(y)\n",
    "gte = []\n",
    "for i in range(len(TotalDelay)):\n",
    "    gtey = abs(MAXy - y[i])\n",
    "    gtex = abs(MINx - x[i])\n",
    "    gtey,gtex\n",
    "    gte.append(max(gtey,gtex))"
   ]
  },
  {
   "cell_type": "code",
   "execution_count": 25,
   "metadata": {},
   "outputs": [
    {
     "data": {
      "text/plain": [
       "[1.0,\n",
       " 0.8712199191815806,\n",
       " 0.975572216745514,\n",
       " 0.8497449006596485,\n",
       " 0.8287880894387789,\n",
       " 0.7037441420115715,\n",
       " 0.6774776615176809,\n",
       " 0.6476237925399373,\n",
       " 0.646614263061394,\n",
       " 0.6034027491166561,\n",
       " 0.522197418089362,\n",
       " 0.5129843972357869,\n",
       " 0.3822971741112124,\n",
       " 0.431099853032172,\n",
       " 0.6048678213309024,\n",
       " 0.6125250683682771,\n",
       " 0.624102096627165,\n",
       " 0.7177757520510483,\n",
       " 0.7202370100273473,\n",
       " 0.726982680036463,\n",
       " 0.76718322698268,\n",
       " 0.7923792160437557,\n",
       " 0.8374658158614403,\n",
       " 0.9318505013673656,\n",
       " 0.9284776663628077,\n",
       " 0.9594165907019143,\n",
       " 0.9568094804010939,\n",
       " 0.9745852324521422,\n",
       " 1.0]"
      ]
     },
     "execution_count": 25,
     "metadata": {},
     "output_type": "execute_result"
    },
    {
     "data": {
      "text/plain": [
       "0.3822971741112124"
      ]
     },
     "execution_count": 25,
     "metadata": {},
     "output_type": "execute_result"
    }
   ],
   "source": [
    "gte\n",
    "min(gte)"
   ]
  }
 ],
 "metadata": {
  "kernelspec": {
   "display_name": "Python 3",
   "language": "python",
   "name": "python3"
  },
  "language_info": {
   "codemirror_mode": {
    "name": "ipython",
    "version": 3
   },
   "file_extension": ".py",
   "mimetype": "text/x-python",
   "name": "python",
   "nbconvert_exporter": "python",
   "pygments_lexer": "ipython3",
   "version": "3.9.5"
  }
 },
 "nbformat": 4,
 "nbformat_minor": 4
}
